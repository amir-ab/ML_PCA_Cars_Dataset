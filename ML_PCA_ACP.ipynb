{
  "nbformat": 4,
  "nbformat_minor": 0,
  "metadata": {
    "colab": {
      "name": "ML_PCA_ACP.ipynb",
      "provenance": [],
      "collapsed_sections": [],
      "authorship_tag": "ABX9TyPSXwomQ/4+qzLsKJAuBDoD",
      "include_colab_link": true
    },
    "kernelspec": {
      "name": "python3",
      "display_name": "Python 3"
    },
    "language_info": {
      "name": "python"
    }
  },
  "cells": [
    {
      "cell_type": "markdown",
      "metadata": {
        "id": "view-in-github",
        "colab_type": "text"
      },
      "source": [
        "<a href=\"https://colab.research.google.com/github/amir-ab/ML_PCA_Cars_Dataset/blob/main/ML_PCA_ACP.ipynb\" target=\"_parent\"><img src=\"https://colab.research.google.com/assets/colab-badge.svg\" alt=\"Open In Colab\"/></a>"
      ]
    },
    {
      "cell_type": "code",
      "metadata": {
        "id": "cajd1QTej0xt"
      },
      "source": [
        "%matplotlib inline\n",
        "import matplotlib.pyplot as plt\n",
        "import pandas as pd"
      ],
      "execution_count": 1,
      "outputs": []
    },
    {
      "cell_type": "code",
      "metadata": {
        "colab": {
          "base_uri": "https://localhost:8080/",
          "height": 194
        },
        "id": "G8abpLD7mvkH",
        "outputId": "703255ba-8415-4e21-e1a2-8187f03f9cbe"
      },
      "source": [
        "dataset = (\"/content/autos_acp.csv\")\n",
        "df = pd.read_csv(dataset, sep=\";\")\n",
        "df.head()"
      ],
      "execution_count": 2,
      "outputs": [
        {
          "output_type": "execute_result",
          "data": {
            "text/html": [
              "<div>\n",
              "<style scoped>\n",
              "    .dataframe tbody tr th:only-of-type {\n",
              "        vertical-align: middle;\n",
              "    }\n",
              "\n",
              "    .dataframe tbody tr th {\n",
              "        vertical-align: top;\n",
              "    }\n",
              "\n",
              "    .dataframe thead th {\n",
              "        text-align: right;\n",
              "    }\n",
              "</style>\n",
              "<table border=\"1\" class=\"dataframe\">\n",
              "  <thead>\n",
              "    <tr style=\"text-align: right;\">\n",
              "      <th></th>\n",
              "      <th>Modele</th>\n",
              "      <th>CYL</th>\n",
              "      <th>PUISS</th>\n",
              "      <th>LONG</th>\n",
              "      <th>LARG</th>\n",
              "      <th>POIDS</th>\n",
              "      <th>V-MAX</th>\n",
              "      <th>FINITION</th>\n",
              "      <th>PRIX</th>\n",
              "      <th>R-POID.PUIS</th>\n",
              "    </tr>\n",
              "  </thead>\n",
              "  <tbody>\n",
              "    <tr>\n",
              "      <th>0</th>\n",
              "      <td>Alfasud TI</td>\n",
              "      <td>1350</td>\n",
              "      <td>79</td>\n",
              "      <td>393</td>\n",
              "      <td>161</td>\n",
              "      <td>870</td>\n",
              "      <td>165</td>\n",
              "      <td>B</td>\n",
              "      <td>30570</td>\n",
              "      <td>11,01</td>\n",
              "    </tr>\n",
              "    <tr>\n",
              "      <th>1</th>\n",
              "      <td>Audi 100</td>\n",
              "      <td>1588</td>\n",
              "      <td>85</td>\n",
              "      <td>468</td>\n",
              "      <td>177</td>\n",
              "      <td>1110</td>\n",
              "      <td>160</td>\n",
              "      <td>TB</td>\n",
              "      <td>39990</td>\n",
              "      <td>13,06</td>\n",
              "    </tr>\n",
              "    <tr>\n",
              "      <th>2</th>\n",
              "      <td>Simca 1300</td>\n",
              "      <td>1294</td>\n",
              "      <td>68</td>\n",
              "      <td>424</td>\n",
              "      <td>168</td>\n",
              "      <td>1050</td>\n",
              "      <td>152</td>\n",
              "      <td>M</td>\n",
              "      <td>29600</td>\n",
              "      <td>15,44</td>\n",
              "    </tr>\n",
              "    <tr>\n",
              "      <th>3</th>\n",
              "      <td>Citroen GS Club</td>\n",
              "      <td>1222</td>\n",
              "      <td>59</td>\n",
              "      <td>412</td>\n",
              "      <td>161</td>\n",
              "      <td>930</td>\n",
              "      <td>151</td>\n",
              "      <td>M</td>\n",
              "      <td>28250</td>\n",
              "      <td>15,76</td>\n",
              "    </tr>\n",
              "    <tr>\n",
              "      <th>4</th>\n",
              "      <td>Fiat 132</td>\n",
              "      <td>1585</td>\n",
              "      <td>98</td>\n",
              "      <td>439</td>\n",
              "      <td>164</td>\n",
              "      <td>1105</td>\n",
              "      <td>165</td>\n",
              "      <td>B</td>\n",
              "      <td>34900</td>\n",
              "      <td>11,28</td>\n",
              "    </tr>\n",
              "  </tbody>\n",
              "</table>\n",
              "</div>"
            ],
            "text/plain": [
              "            Modele   CYL  PUISS  LONG  ...  V-MAX  FINITION   PRIX R-POID.PUIS\n",
              "0       Alfasud TI  1350     79   393  ...    165         B  30570       11,01\n",
              "1         Audi 100  1588     85   468  ...    160        TB  39990       13,06\n",
              "2       Simca 1300  1294     68   424  ...    152         M  29600       15,44\n",
              "3  Citroen GS Club  1222     59   412  ...    151         M  28250       15,76\n",
              "4         Fiat 132  1585     98   439  ...    165         B  34900       11,28\n",
              "\n",
              "[5 rows x 10 columns]"
            ]
          },
          "metadata": {
            "tags": []
          },
          "execution_count": 2
        }
      ]
    },
    {
      "cell_type": "code",
      "metadata": {
        "colab": {
          "base_uri": "https://localhost:8080/"
        },
        "id": "Aj7pzFGUoABJ",
        "outputId": "6e2559ee-bd08-4a13-e08b-f732b00a4b34"
      },
      "source": [
        "df.info()"
      ],
      "execution_count": 3,
      "outputs": [
        {
          "output_type": "stream",
          "text": [
            "<class 'pandas.core.frame.DataFrame'>\n",
            "RangeIndex: 18 entries, 0 to 17\n",
            "Data columns (total 10 columns):\n",
            " #   Column       Non-Null Count  Dtype \n",
            "---  ------       --------------  ----- \n",
            " 0   Modele       18 non-null     object\n",
            " 1   CYL          18 non-null     int64 \n",
            " 2   PUISS        18 non-null     int64 \n",
            " 3   LONG         18 non-null     int64 \n",
            " 4   LARG         18 non-null     int64 \n",
            " 5   POIDS        18 non-null     int64 \n",
            " 6   V-MAX        18 non-null     int64 \n",
            " 7   FINITION     18 non-null     object\n",
            " 8   PRIX         18 non-null     int64 \n",
            " 9   R-POID.PUIS  18 non-null     object\n",
            "dtypes: int64(7), object(3)\n",
            "memory usage: 1.5+ KB\n"
          ],
          "name": "stdout"
        }
      ]
    },
    {
      "cell_type": "code",
      "metadata": {
        "colab": {
          "base_uri": "https://localhost:8080/",
          "height": 282
        },
        "id": "VGn4AeP7oSsn",
        "outputId": "673bf1e1-1e3e-41a5-cb0e-ad7b95723d57"
      },
      "source": [
        "df.describe()"
      ],
      "execution_count": 4,
      "outputs": [
        {
          "output_type": "execute_result",
          "data": {
            "text/html": [
              "<div>\n",
              "<style scoped>\n",
              "    .dataframe tbody tr th:only-of-type {\n",
              "        vertical-align: middle;\n",
              "    }\n",
              "\n",
              "    .dataframe tbody tr th {\n",
              "        vertical-align: top;\n",
              "    }\n",
              "\n",
              "    .dataframe thead th {\n",
              "        text-align: right;\n",
              "    }\n",
              "</style>\n",
              "<table border=\"1\" class=\"dataframe\">\n",
              "  <thead>\n",
              "    <tr style=\"text-align: right;\">\n",
              "      <th></th>\n",
              "      <th>CYL</th>\n",
              "      <th>PUISS</th>\n",
              "      <th>LONG</th>\n",
              "      <th>LARG</th>\n",
              "      <th>POIDS</th>\n",
              "      <th>V-MAX</th>\n",
              "      <th>PRIX</th>\n",
              "    </tr>\n",
              "  </thead>\n",
              "  <tbody>\n",
              "    <tr>\n",
              "      <th>count</th>\n",
              "      <td>18.000000</td>\n",
              "      <td>18.000000</td>\n",
              "      <td>18.000000</td>\n",
              "      <td>18.000000</td>\n",
              "      <td>18.000000</td>\n",
              "      <td>18.000000</td>\n",
              "      <td>18.000000</td>\n",
              "    </tr>\n",
              "    <tr>\n",
              "      <th>mean</th>\n",
              "      <td>1631.666667</td>\n",
              "      <td>84.611111</td>\n",
              "      <td>433.500000</td>\n",
              "      <td>166.666667</td>\n",
              "      <td>1078.833333</td>\n",
              "      <td>158.277778</td>\n",
              "      <td>34158.611111</td>\n",
              "    </tr>\n",
              "    <tr>\n",
              "      <th>std</th>\n",
              "      <td>373.929846</td>\n",
              "      <td>20.376281</td>\n",
              "      <td>22.107358</td>\n",
              "      <td>5.313689</td>\n",
              "      <td>136.957808</td>\n",
              "      <td>12.140383</td>\n",
              "      <td>6571.577795</td>\n",
              "    </tr>\n",
              "    <tr>\n",
              "      <th>min</th>\n",
              "      <td>1166.000000</td>\n",
              "      <td>55.000000</td>\n",
              "      <td>393.000000</td>\n",
              "      <td>157.000000</td>\n",
              "      <td>815.000000</td>\n",
              "      <td>140.000000</td>\n",
              "      <td>22100.000000</td>\n",
              "    </tr>\n",
              "    <tr>\n",
              "      <th>25%</th>\n",
              "      <td>1310.250000</td>\n",
              "      <td>70.750000</td>\n",
              "      <td>424.000000</td>\n",
              "      <td>162.250000</td>\n",
              "      <td>1020.000000</td>\n",
              "      <td>151.250000</td>\n",
              "      <td>29842.500000</td>\n",
              "    </tr>\n",
              "    <tr>\n",
              "      <th>50%</th>\n",
              "      <td>1577.500000</td>\n",
              "      <td>82.000000</td>\n",
              "      <td>434.500000</td>\n",
              "      <td>167.000000</td>\n",
              "      <td>1087.500000</td>\n",
              "      <td>160.000000</td>\n",
              "      <td>33345.000000</td>\n",
              "    </tr>\n",
              "    <tr>\n",
              "      <th>75%</th>\n",
              "      <td>1797.500000</td>\n",
              "      <td>98.000000</td>\n",
              "      <td>448.000000</td>\n",
              "      <td>169.750000</td>\n",
              "      <td>1126.750000</td>\n",
              "      <td>165.000000</td>\n",
              "      <td>38457.500000</td>\n",
              "    </tr>\n",
              "    <tr>\n",
              "      <th>max</th>\n",
              "      <td>2664.000000</td>\n",
              "      <td>128.000000</td>\n",
              "      <td>469.000000</td>\n",
              "      <td>177.000000</td>\n",
              "      <td>1370.000000</td>\n",
              "      <td>180.000000</td>\n",
              "      <td>47700.000000</td>\n",
              "    </tr>\n",
              "  </tbody>\n",
              "</table>\n",
              "</div>"
            ],
            "text/plain": [
              "               CYL       PUISS  ...       V-MAX          PRIX\n",
              "count    18.000000   18.000000  ...   18.000000     18.000000\n",
              "mean   1631.666667   84.611111  ...  158.277778  34158.611111\n",
              "std     373.929846   20.376281  ...   12.140383   6571.577795\n",
              "min    1166.000000   55.000000  ...  140.000000  22100.000000\n",
              "25%    1310.250000   70.750000  ...  151.250000  29842.500000\n",
              "50%    1577.500000   82.000000  ...  160.000000  33345.000000\n",
              "75%    1797.500000   98.000000  ...  165.000000  38457.500000\n",
              "max    2664.000000  128.000000  ...  180.000000  47700.000000\n",
              "\n",
              "[8 rows x 7 columns]"
            ]
          },
          "metadata": {
            "tags": []
          },
          "execution_count": 4
        }
      ]
    },
    {
      "cell_type": "code",
      "metadata": {
        "colab": {
          "base_uri": "https://localhost:8080/",
          "height": 1000
        },
        "id": "qBdFc_oeoj48",
        "outputId": "e559c540-7af8-4a5f-ed2a-f1cf822c7956"
      },
      "source": [
        "pd.plotting.scatter_matrix(df,figsize=(10,10))"
      ],
      "execution_count": 5,
      "outputs": [
        {
          "output_type": "execute_result",
          "data": {
            "text/plain": [
              "array([[<matplotlib.axes._subplots.AxesSubplot object at 0x7f2d6a220a10>,\n",
              "        <matplotlib.axes._subplots.AxesSubplot object at 0x7f2d70d864d0>,\n",
              "        <matplotlib.axes._subplots.AxesSubplot object at 0x7f2d6a1bc4d0>,\n",
              "        <matplotlib.axes._subplots.AxesSubplot object at 0x7f2d6a172b50>,\n",
              "        <matplotlib.axes._subplots.AxesSubplot object at 0x7f2d6a136210>,\n",
              "        <matplotlib.axes._subplots.AxesSubplot object at 0x7f2d6a0e9890>,\n",
              "        <matplotlib.axes._subplots.AxesSubplot object at 0x7f2d6a0a0f90>],\n",
              "       [<matplotlib.axes._subplots.AxesSubplot object at 0x7f2d6a063590>,\n",
              "        <matplotlib.axes._subplots.AxesSubplot object at 0x7f2d6a0635d0>,\n",
              "        <matplotlib.axes._subplots.AxesSubplot object at 0x7f2d6a016cd0>,\n",
              "        <matplotlib.axes._subplots.AxesSubplot object at 0x7f2d69f90910>,\n",
              "        <matplotlib.axes._subplots.AxesSubplot object at 0x7f2d69fc5f90>,\n",
              "        <matplotlib.axes._subplots.AxesSubplot object at 0x7f2d69f85650>,\n",
              "        <matplotlib.axes._subplots.AxesSubplot object at 0x7f2d69f3bcd0>],\n",
              "       [<matplotlib.axes._subplots.AxesSubplot object at 0x7f2d69efc390>,\n",
              "        <matplotlib.axes._subplots.AxesSubplot object at 0x7f2d69eb1b50>,\n",
              "        <matplotlib.axes._subplots.AxesSubplot object at 0x7f2d69e760d0>,\n",
              "        <matplotlib.axes._subplots.AxesSubplot object at 0x7f2d69e2a750>,\n",
              "        <matplotlib.axes._subplots.AxesSubplot object at 0x7f2d69ddedd0>,\n",
              "        <matplotlib.axes._subplots.AxesSubplot object at 0x7f2d69da2490>,\n",
              "        <matplotlib.axes._subplots.AxesSubplot object at 0x7f2d69d56b10>],\n",
              "       [<matplotlib.axes._subplots.AxesSubplot object at 0x7f2d69d191d0>,\n",
              "        <matplotlib.axes._subplots.AxesSubplot object at 0x7f2d69cd0850>,\n",
              "        <matplotlib.axes._subplots.AxesSubplot object at 0x7f2d69d05ed0>,\n",
              "        <matplotlib.axes._subplots.AxesSubplot object at 0x7f2d69cc7590>,\n",
              "        <matplotlib.axes._subplots.AxesSubplot object at 0x7f2d69c7ac10>,\n",
              "        <matplotlib.axes._subplots.AxesSubplot object at 0x7f2d69c3d2d0>,\n",
              "        <matplotlib.axes._subplots.AxesSubplot object at 0x7f2d69bf3950>],\n",
              "       [<matplotlib.axes._subplots.AxesSubplot object at 0x7f2d69b9ead0>,\n",
              "        <matplotlib.axes._subplots.AxesSubplot object at 0x7f2d69b6b690>,\n",
              "        <matplotlib.axes._subplots.AxesSubplot object at 0x7f2d69b23850>,\n",
              "        <matplotlib.axes._subplots.AxesSubplot object at 0x7f2d69ad8dd0>,\n",
              "        <matplotlib.axes._subplots.AxesSubplot object at 0x7f2d69a99390>,\n",
              "        <matplotlib.axes._subplots.AxesSubplot object at 0x7f2d69a4f910>,\n",
              "        <matplotlib.axes._subplots.AxesSubplot object at 0x7f2d69a84e90>],\n",
              "       [<matplotlib.axes._subplots.AxesSubplot object at 0x7f2d69a44450>,\n",
              "        <matplotlib.axes._subplots.AxesSubplot object at 0x7f2d699fb9d0>,\n",
              "        <matplotlib.axes._subplots.AxesSubplot object at 0x7f2d699b2f50>,\n",
              "        <matplotlib.axes._subplots.AxesSubplot object at 0x7f2d69972510>,\n",
              "        <matplotlib.axes._subplots.AxesSubplot object at 0x7f2d69927a90>,\n",
              "        <matplotlib.axes._subplots.AxesSubplot object at 0x7f2d698dcfd0>,\n",
              "        <matplotlib.axes._subplots.AxesSubplot object at 0x7f2d6989e5d0>],\n",
              "       [<matplotlib.axes._subplots.AxesSubplot object at 0x7f2d69852b50>,\n",
              "        <matplotlib.axes._subplots.AxesSubplot object at 0x7f2d69816110>,\n",
              "        <matplotlib.axes._subplots.AxesSubplot object at 0x7f2d697cc690>,\n",
              "        <matplotlib.axes._subplots.AxesSubplot object at 0x7f2d697ffc10>,\n",
              "        <matplotlib.axes._subplots.AxesSubplot object at 0x7f2d697c01d0>,\n",
              "        <matplotlib.axes._subplots.AxesSubplot object at 0x7f2d69776750>,\n",
              "        <matplotlib.axes._subplots.AxesSubplot object at 0x7f2d69728cd0>]],\n",
              "      dtype=object)"
            ]
          },
          "metadata": {
            "tags": []
          },
          "execution_count": 5
        },
        {
          "output_type": "display_data",
          "data": {
            "image/png": "[encoded data removed]",
            "text/plain": [
              "<Figure size 720x720 with 49 Axes>"
            ]
          },
          "metadata": {
            "tags": [],
            "needs_background": "light"
          }
        }
      ]
    },
    {
      "cell_type": "code",
      "metadata": {
        "colab": {
          "base_uri": "https://localhost:8080/"
        },
        "id": "jH6h6kab48zB",
        "outputId": "f3c99d9d-e2f4-4ddc-beee-c3571764eda8"
      },
      "source": [
        "df.shape"
      ],
      "execution_count": 6,
      "outputs": [
        {
          "output_type": "execute_result",
          "data": {
            "text/plain": [
              "(18, 10)"
            ]
          },
          "metadata": {
            "tags": []
          },
          "execution_count": 6
        }
      ]
    },
    {
      "cell_type": "code",
      "metadata": {
        "id": "pAJhNxnJBiRC",
        "colab": {
          "base_uri": "https://localhost:8080/",
          "height": 194
        },
        "outputId": "f9192557-d9f9-4471-b343-655e2714a32c"
      },
      "source": [
        "data = df.drop(['Modele','FINITION','R-POID.PUIS'],1,errors='ignore')\n",
        "#data['R-POID.PUIS'] = data['R-POID.PUIS'].astype(float)\n",
        "#data['R-POID.PUIS'] = pd.to_numeric(data['R-POID.PUIS'],errors='coerce')\n",
        "data.head()\n"
      ],
      "execution_count": 7,
      "outputs": [
        {
          "output_type": "execute_result",
          "data": {
            "text/html": [
              "<div>\n",
              "<style scoped>\n",
              "    .dataframe tbody tr th:only-of-type {\n",
              "        vertical-align: middle;\n",
              "    }\n",
              "\n",
              "    .dataframe tbody tr th {\n",
              "        vertical-align: top;\n",
              "    }\n",
              "\n",
              "    .dataframe thead th {\n",
              "        text-align: right;\n",
              "    }\n",
              "</style>\n",
              "<table border=\"1\" class=\"dataframe\">\n",
              "  <thead>\n",
              "    <tr style=\"text-align: right;\">\n",
              "      <th></th>\n",
              "      <th>CYL</th>\n",
              "      <th>PUISS</th>\n",
              "      <th>LONG</th>\n",
              "      <th>LARG</th>\n",
              "      <th>POIDS</th>\n",
              "      <th>V-MAX</th>\n",
              "      <th>PRIX</th>\n",
              "    </tr>\n",
              "  </thead>\n",
              "  <tbody>\n",
              "    <tr>\n",
              "      <th>0</th>\n",
              "      <td>1350</td>\n",
              "      <td>79</td>\n",
              "      <td>393</td>\n",
              "      <td>161</td>\n",
              "      <td>870</td>\n",
              "      <td>165</td>\n",
              "      <td>30570</td>\n",
              "    </tr>\n",
              "    <tr>\n",
              "      <th>1</th>\n",
              "      <td>1588</td>\n",
              "      <td>85</td>\n",
              "      <td>468</td>\n",
              "      <td>177</td>\n",
              "      <td>1110</td>\n",
              "      <td>160</td>\n",
              "      <td>39990</td>\n",
              "    </tr>\n",
              "    <tr>\n",
              "      <th>2</th>\n",
              "      <td>1294</td>\n",
              "      <td>68</td>\n",
              "      <td>424</td>\n",
              "      <td>168</td>\n",
              "      <td>1050</td>\n",
              "      <td>152</td>\n",
              "      <td>29600</td>\n",
              "    </tr>\n",
              "    <tr>\n",
              "      <th>3</th>\n",
              "      <td>1222</td>\n",
              "      <td>59</td>\n",
              "      <td>412</td>\n",
              "      <td>161</td>\n",
              "      <td>930</td>\n",
              "      <td>151</td>\n",
              "      <td>28250</td>\n",
              "    </tr>\n",
              "    <tr>\n",
              "      <th>4</th>\n",
              "      <td>1585</td>\n",
              "      <td>98</td>\n",
              "      <td>439</td>\n",
              "      <td>164</td>\n",
              "      <td>1105</td>\n",
              "      <td>165</td>\n",
              "      <td>34900</td>\n",
              "    </tr>\n",
              "  </tbody>\n",
              "</table>\n",
              "</div>"
            ],
            "text/plain": [
              "    CYL  PUISS  LONG  LARG  POIDS  V-MAX   PRIX\n",
              "0  1350     79   393   161    870    165  30570\n",
              "1  1588     85   468   177   1110    160  39990\n",
              "2  1294     68   424   168   1050    152  29600\n",
              "3  1222     59   412   161    930    151  28250\n",
              "4  1585     98   439   164   1105    165  34900"
            ]
          },
          "metadata": {
            "tags": []
          },
          "execution_count": 7
        }
      ]
    },
    {
      "cell_type": "code",
      "metadata": {
        "colab": {
          "base_uri": "https://localhost:8080/"
        },
        "id": "cXTiNzoq5Wld",
        "outputId": "094911c5-9ab5-4a92-9969-82dd757b2f6e"
      },
      "source": [
        "# accelerating the process\n",
        "import numpy as np \n",
        "Xnum = data.values\n",
        "Xnum"
      ],
      "execution_count": 8,
      "outputs": [
        {
          "output_type": "execute_result",
          "data": {
            "text/plain": [
              "array([[ 1350,    79,   393,   161,   870,   165, 30570],\n",
              "       [ 1588,    85,   468,   177,  1110,   160, 39990],\n",
              "       [ 1294,    68,   424,   168,  1050,   152, 29600],\n",
              "       [ 1222,    59,   412,   161,   930,   151, 28250],\n",
              "       [ 1585,    98,   439,   164,  1105,   165, 34900],\n",
              "       [ 1297,    82,   429,   169,  1080,   160, 35480],\n",
              "       [ 1796,    79,   449,   169,  1160,   154, 32300],\n",
              "       [ 1565,    55,   424,   163,  1010,   140, 32000],\n",
              "       [ 2664,   128,   452,   173,  1320,   180, 47700],\n",
              "       [ 1166,    55,   399,   157,   815,   140, 26540],\n",
              "       [ 1570,   109,   428,   162,  1060,   175, 42395],\n",
              "       [ 1798,    82,   445,   172,  1160,   158, 33990],\n",
              "       [ 1998,   115,   469,   169,  1370,   160, 43980],\n",
              "       [ 1993,    98,   438,   170,  1080,   167, 35010],\n",
              "       [ 1442,    80,   431,   166,  1129,   144, 39450],\n",
              "       [ 1769,    83,   440,   165,  1095,   165, 27900],\n",
              "       [ 1979,   100,   459,   173,  1120,   173, 32700],\n",
              "       [ 1294,    68,   404,   161,   955,   140, 22100]])"
            ]
          },
          "metadata": {
            "tags": []
          },
          "execution_count": 8
        }
      ]
    },
    {
      "cell_type": "code",
      "metadata": {
        "colab": {
          "base_uri": "https://localhost:8080/"
        },
        "id": "xpuzmqRYr9Kn",
        "outputId": "a866c33b-d75a-4aec-ab07-e64985ba132e"
      },
      "source": [
        "# Immuatable structre (you can't change not dynamic list)\n",
        "type(Xnum)"
      ],
      "execution_count": 9,
      "outputs": [
        {
          "output_type": "execute_result",
          "data": {
            "text/plain": [
              "numpy.ndarray"
            ]
          },
          "metadata": {
            "tags": []
          },
          "execution_count": 9
        }
      ]
    },
    {
      "cell_type": "markdown",
      "metadata": {
        "id": "F-nQgsUJsTGW"
      },
      "source": [
        "### Step 1: Standarize The d- dimensional dataset\n",
        "- Subtract the mean value ( la valeur moyenne )\n",
        "- Divide by the standard deviation ( l'écart-type)"
      ]
    },
    {
      "cell_type": "code",
      "metadata": {
        "id": "joqX-qfetEdl"
      },
      "source": [
        "from sklearn.preprocessing import StandardScaler\n",
        "ss = StandardScaler()"
      ],
      "execution_count": 10,
      "outputs": []
    },
    {
      "cell_type": "code",
      "metadata": {
        "id": "3DP49DxNtXFj"
      },
      "source": [
        "Xss = ss.fit_transform(Xnum)"
      ],
      "execution_count": 12,
      "outputs": []
    },
    {
      "cell_type": "markdown",
      "metadata": {
        "id": "lIN_w4Yo7hYH"
      },
      "source": [
        "### Step 2: Construct the Covariance Matrix"
      ]
    },
    {
      "cell_type": "code",
      "metadata": {
        "id": "pX4lmWwz7IkC"
      },
      "source": [
        "matrice_covariance = np.cov(Xss.T)"
      ],
      "execution_count": 13,
      "outputs": []
    },
    {
      "cell_type": "markdown",
      "metadata": {
        "id": "o_su-bPU7qKj"
      },
      "source": [
        "### Step 3: Decompose covariance eigenvectors and eigenvalues"
      ]
    },
    {
      "cell_type": "code",
      "metadata": {
        "colab": {
          "base_uri": "https://localhost:8080/"
        },
        "id": "GwM1cVEa_WgC",
        "outputId": "36d05aac-1d30-4a92-a408-0817896ec96f"
      },
      "source": [
        "from numpy.linalg import eig"
      ],
      "execution_count": 14,
      "outputs": [
        {
          "output_type": "execute_result",
          "data": {
            "text/plain": [
              "(7, 7)"
            ]
          },
          "metadata": {
            "tags": []
          },
          "execution_count": 14
        }
      ]
    },
    {
      "cell_type": "code",
      "metadata": {
        "colab": {
          "base_uri": "https://localhost:8080/"
        },
        "id": "3oDxYa1f_qoD",
        "outputId": "3da2f367-18aa-4956-8eec-ec878e9e6720"
      },
      "source": [
        "matrice_covariance.shape"
      ],
      "execution_count": 15,
      "outputs": [
        {
          "output_type": "execute_result",
          "data": {
            "text/plain": [
              "(7, 7)"
            ]
          },
          "metadata": {
            "tags": []
          },
          "execution_count": 15
        }
      ]
    },
    {
      "cell_type": "code",
      "metadata": {
        "id": "20tKYDI4_u2v"
      },
      "source": [
        "(valeurs_propres , vecteurs_propres)= eig(matrice_covariance)"
      ],
      "execution_count": 18,
      "outputs": []
    },
    {
      "cell_type": "markdown",
      "metadata": {
        "id": "KoRMHWkA8Paa"
      },
      "source": [
        "### Step 4: Sort the eigenvalues by order to rank the corresponding eigenvectors"
      ]
    },
    {
      "cell_type": "code",
      "metadata": {
        "id": "g6kWj1ZQAacr"
      },
      "source": [
        "pourcentage_information = ( valeurs_propres / valeurs_propres.sum() ) * 100"
      ],
      "execution_count": 21,
      "outputs": []
    },
    {
      "cell_type": "code",
      "metadata": {
        "colab": {
          "base_uri": "https://localhost:8080/",
          "height": 279
        },
        "id": "ITB6YtJQBdSG",
        "outputId": "2cb4d2d7-ea1c-4d63-cdb8-8ecf2bbc07c6"
      },
      "source": [
        "tot  = sum(valeurs_propres)\n",
        "var_exp = [(i / tot) for i in sorted (valeurs_propres, reverse=True)]\n",
        "cum_var_exp = np.cumsum(var_exp)\n",
        "\n",
        "plt.bar(range(1,8), var_exp , alpha=0.5, align='center', label='individual explained variance') \n",
        "plt.step(range(1,8), cum_var_exp, where='mid', label='cumulative explained variance')\n",
        "plt.ylabel('Explained variance ratio')\n",
        "plt.xlabel('Principal component index')\n",
        "plt.legend(loc='best')\n",
        "plt.grid()\n",
        "plt.show()"
      ],
      "execution_count": 30,
      "outputs": [
        {
          "output_type": "display_data",
          "data": {
            "image/png": "[encoded data removed]",
            "text/plain": [
              "<Figure size 432x288 with 1 Axes>"
            ]
          },
          "metadata": {
            "tags": [],
            "needs_background": "light"
          }
        }
      ]
    },
    {
      "cell_type": "markdown",
      "metadata": {
        "id": "g3kn2KFw8iOk"
      },
      "source": [
        "###  Step 5: Select K eigenvectors wich correspond to largest K eigenvalues, where K is the dimensionality of the new fetaure subspace (k <= d)"
      ]
    },
    {
      "cell_type": "code",
      "metadata": {
        "id": "j296hNgEDkmD"
      },
      "source": [
        "from sklearn.decomposition import PCA\n",
        "# here you have choice : spcify the number of components or percentage\n",
        "pca = PCA(0.9)\n",
        "#pca = PCA(n_components=2)"
      ],
      "execution_count": 42,
      "outputs": []
    },
    {
      "cell_type": "markdown",
      "metadata": {
        "id": "XIfw27F18geg"
      },
      "source": [
        "### Step 6 : Construct a projection matrix \"W\" from the top k eigenvectors"
      ]
    },
    {
      "cell_type": "code",
      "metadata": {
        "id": "wu4ctaOVMDPE"
      },
      "source": [
        "Xpca = pca.fit_transform(Xss)"
      ],
      "execution_count": 46,
      "outputs": []
    },
    {
      "cell_type": "markdown",
      "metadata": {
        "id": "XHlDoT71-ZjC"
      },
      "source": [
        "### Step 7 : Transform the d-dimensional input dataset X unsing the projection matrix W to obtain the new K-dimensional feature subspace."
      ]
    },
    {
      "cell_type": "code",
      "metadata": {
        "colab": {
          "base_uri": "https://localhost:8080/"
        },
        "id": "hzZ6rMTqL-t-",
        "outputId": "e10949ab-a6e6-4716-af18-bd1b1a48247c"
      },
      "source": [
        "print(\"original shape:   \", Xnum.shape)\n",
        "print(\"transformed shape:\", Xpca.shape)"
      ],
      "execution_count": 51,
      "outputs": [
        {
          "output_type": "stream",
          "text": [
            "original shape:    (18, 7)\n",
            "transformed shape: (18, 3)\n"
          ],
          "name": "stdout"
        }
      ]
    },
    {
      "cell_type": "code",
      "metadata": {
        "colab": {
          "base_uri": "https://localhost:8080/",
          "height": 265
        },
        "id": "PR1J3qQ6Mn2h",
        "outputId": "fdd90170-7392-4771-a837-d3decf829417"
      },
      "source": [
        "X_new = pca.inverse_transform(Xpca)\n",
        "plt.scatter(Xss[:,0], Xss[:, 1], alpha=0.2)\n",
        "plt.scatter(X_new[:, 0], X_new[:, 1], alpha=0.8)\n",
        "plt.axis('equal');"
      ],
      "execution_count": 52,
      "outputs": [
        {
          "output_type": "display_data",
          "data": {
            "image/png": "[encoded data removed]",
            "text/plain": [
              "<Figure size 432x288 with 1 Axes>"
            ]
          },
          "metadata": {
            "tags": [],
            "needs_background": "light"
          }
        }
      ]
    }
  ]
}